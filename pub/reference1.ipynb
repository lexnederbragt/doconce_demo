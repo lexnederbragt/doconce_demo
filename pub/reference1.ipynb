{
 "cells": [
  {
   "cell_type": "markdown",
   "id": "5656ab27",
   "metadata": {
    "editable": true
   },
   "source": [
    "<!-- HTML file automatically generated from DocOnce source (https://github.com/doconce/doconce/)\n",
    "doconce format html reference1.do.txt --execute --ipynb_cite=latex-plain -->"
   ]
  },
  {
   "cell_type": "markdown",
   "id": "6bd54d4c",
   "metadata": {
    "editable": true
   },
   "source": [
    "## Plain text\n",
    "\n",
    "Here is some plain text.\n",
    "\n",
    "Now we add a citation: a Langtangen book [[1]](#CaiLangtangen2006). And a paper [[2]](#Chorin1968)."
   ]
  },
  {
   "cell_type": "markdown",
   "id": "d2e108ca",
   "metadata": {
    "editable": true
   },
   "source": [
    "## Explanation\n",
    "\n",
    "Let's explain some of this code\n",
    "(setting the code to be unexecutable):\n",
    "\n",
    "The `for` loop:"
   ]
  },
  {
   "cell_type": "markdown",
   "id": "b76ea608",
   "metadata": {
    "editable": true
   },
   "source": [
    "```Python\n",
    "        for number in range(10):\n",
    "           total = total + (number + 1)\n",
    "```"
   ]
  },
  {
   "cell_type": "markdown",
   "id": "2b1ec11a",
   "metadata": {
    "editable": true
   },
   "source": [
    "Goes through numbers 0 to 9 and adds 1 more than each number to the `total` variable."
   ]
  },
  {
   "cell_type": "markdown",
   "id": "277698d3",
   "metadata": {
    "editable": true
   },
   "source": [
    "## Table\n",
    "\n",
    "The data on exponential growth can be found in the table below.\n",
    "\n",
    "<table class=\"dotable\" border=\"1\">\n",
    "<thead>\n",
    "<tr><th align=\"center\">time</th> <th align=\"center\">  count  </th> </tr>\n",
    "</thead>\n",
    "<tbody>\n",
    "<tr><td align=\"center\">   60      </td> <td align=\"center\">   10000        </td> </tr>\n",
    "<tr><td align=\"center\">   90      </td> <td align=\"center\">   25587        </td> </tr>\n",
    "<tr><td align=\"center\">   120     </td> <td align=\"center\">   76327        </td> </tr>\n",
    "<tr><td align=\"center\">   150     </td> <td align=\"center\">   212715       </td> </tr>\n",
    "<tr><td align=\"center\">   180     </td> <td align=\"center\">   619511       </td> </tr>\n",
    "<tr><td align=\"center\">   210     </td> <td align=\"center\">   1940838      </td> </tr>\n",
    "<tr><td align=\"center\">   240     </td> <td align=\"center\">   4240760      </td> </tr>\n",
    "<tr><td align=\"center\">   270     </td> <td align=\"center\">   13993730     </td> </tr>\n",
    "<tr><td align=\"center\">   300     </td> <td align=\"center\">   38971086     </td> </tr>\n",
    "<tr><td align=\"center\">   330     </td> <td align=\"center\">   105614040    </td> </tr>\n",
    "</tbody>\n",
    "</table>"
   ]
  },
  {
   "cell_type": "markdown",
   "id": "82f82143",
   "metadata": {
    "editable": true
   },
   "source": [
    "## Figure\n",
    "\n",
    "See [figure 1](#PythonDict) for an illustration that explains the python dictionary concept.\n",
    "\n",
    "<!-- dom:FIGURE: [img/PythonDict.png, width=400 frac=0.8] Data structure concept of a dictionary in python. From [[3]](#PythonDict). <span id=\"PythonDict\"></span> -->\n",
    "<!-- begin figure -->\n",
    "<div id=\"PythonDict\"></div>\n",
    "\n",
    "<img src=\"img/PythonDict.png\" width=\"400\"><p style=\"font-size: 0.9em\"><i>Figure 1: Data structure concept of a dictionary in python. From [[3]](#PythonDict).</i></p>\n",
    "<!-- end figure -->"
   ]
  },
  {
   "cell_type": "markdown",
   "id": "77975296",
   "metadata": {
    "editable": true
   },
   "source": [
    "## Math\n",
    "\n",
    "Now we add some mathematical formula:"
   ]
  },
  {
   "cell_type": "markdown",
   "id": "e889c698",
   "metadata": {
    "editable": true
   },
   "source": [
    "$$\n",
    "K_n = rwTK_{n-1}\\left (1 - \\frac{K_{n-1}}{H}\\right ) - K_{n-1}.\n",
    "$$"
   ]
  },
  {
   "cell_type": "markdown",
   "id": "a407f218",
   "metadata": {
    "editable": true
   },
   "source": [
    "## References\n",
    "\n",
    "1. <span id=\"CaiLangtangen2006\"></span> **X. Cai and H. P. Langtangen**.  Parallelizing PDE Solvers Using the Python Programming Language, *Numerical Solution of Partial Differential Equations on Parallel \tComputers*, edited by **A. M. Bruaset and A. Tveito**, Springer, 2006.\n",
    "\n",
    "2. <span id=\"Chorin1968\"></span> **A. J. Chorin**.  Numerical Solution of the Navier-Stokes Equations, *Math. Comp.*, 22, pp. 745-762, 1968.\n",
    "\n",
    "3. <span id=\"PythonDict\"></span> Data Structure Concept of a Dictionary in Python.  <https://commons.wikimedia.org/wiki/File:GooglePythonClass_Day1_Part3_Pic.jpg>."
   ]
  }
 ],
 "metadata": {},
 "nbformat": 4,
 "nbformat_minor": 5
}
