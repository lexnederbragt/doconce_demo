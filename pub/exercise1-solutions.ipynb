{
 "cells": [
  {
   "cell_type": "markdown",
   "id": "05a90e86",
   "metadata": {
    "editable": true
   },
   "source": [
    "<!-- --- begin exercise --- -->\n",
    "\n",
    "## Exercise 1: my first exercise\n",
    "\n",
    "Here goes a general introduction to the exercise.\n",
    "\n",
    "**a)**\n",
    "Predict what this code will do"
   ]
  },
  {
   "cell_type": "markdown",
   "id": "7130c575",
   "metadata": {
    "editable": true
   },
   "source": [
    "```Python\n",
    "        a = 2\n",
    "        b = 3\n",
    "        for i in range(a, b):\n",
    "            print(i)\n",
    "```"
   ]
  },
  {
   "cell_type": "markdown",
   "id": "87ac3a26",
   "metadata": {
    "editable": true
   },
   "source": [
    "<!-- --- begin answer of exercise --- -->\n",
    "**Answer.**\n",
    "Prints `2`\n",
    "<!-- --- end answer of exercise --- -->\n",
    "\n",
    "**b)**\n",
    "Modify the program so that it prints 2, 3 and 4.\n",
    "\n",
    "<!-- --- begin answer of exercise --- -->\n",
    "**Answer.**\n",
    "There are many ways to do this. We will show two of them.\n",
    "<!-- --- end answer of exercise --- -->\n",
    "\n",
    "<!-- --- begin solution of exercise --- -->\n",
    "**Solution.**"
   ]
  },
  {
   "cell_type": "code",
   "execution_count": 1,
   "id": "fa62fa46",
   "metadata": {
    "collapsed": false,
    "editable": true
   },
   "outputs": [
    {
     "name": "stdout",
     "output_type": "stream",
     "text": [
      "2\n",
      "3\n",
      "4\n"
     ]
    }
   ],
   "source": [
    "a = 2\n",
    "b = 5\n",
    "for i in range(a, b):\n",
    "    print(i)"
   ]
  },
  {
   "cell_type": "markdown",
   "id": "99cd0c74",
   "metadata": {
    "editable": true
   },
   "source": [
    "An alternative:"
   ]
  },
  {
   "cell_type": "code",
   "execution_count": 2,
   "id": "d98ed605",
   "metadata": {
    "collapsed": false,
    "editable": true
   },
   "outputs": [
    {
     "name": "stdout",
     "output_type": "stream",
     "text": [
      "2\n",
      "3\n",
      "4\n"
     ]
    }
   ],
   "source": [
    "a = 1\n",
    "b = 4\n",
    "for i in range(a, b):\n",
    "    print(i + 1)"
   ]
  },
  {
   "cell_type": "markdown",
   "id": "047e2d86",
   "metadata": {
    "editable": true
   },
   "source": [
    "<!-- --- end solution of exercise --- -->\n",
    "\n",
    "<!-- --- end exercise --- -->\n",
    "\n",
    "<!-- --- begin exercise --- -->\n",
    "\n",
    "## Exercise 2: my second exercise\n",
    "\n",
    "Here goes a general introduction to the exercise.\n",
    "\n",
    "**a)**\n",
    "Implement this difference equation in Python\n",
    "and generate a plot for values of $x$ from 1 to 10."
   ]
  },
  {
   "cell_type": "markdown",
   "id": "c4fe9f58",
   "metadata": {
    "editable": true
   },
   "source": [
    "<!-- Equation labels as ordinary links -->\n",
    "<div id=\"_auto1\"></div>\n",
    "\n",
    "$$\n",
    "\\begin{equation}\n",
    "x_{n+1} = 1.5 x_n -20\n",
    "x_0 = 20\n",
    "\\label{_auto1} \\tag{1}\n",
    "\\end{equation}\n",
    "$$"
   ]
  },
  {
   "cell_type": "markdown",
   "id": "77b29f2f",
   "metadata": {
    "editable": true
   },
   "source": [
    "<!-- --- begin solution of exercise --- -->\n",
    "**Solution.**"
   ]
  },
  {
   "cell_type": "code",
   "execution_count": 3,
   "id": "c657a5bb",
   "metadata": {
    "collapsed": false,
    "editable": true
   },
   "outputs": [
    {
     "data": {
      "image/png": "[encoded data removed]",
      "text/plain": [
       "<Figure size 432x288 with 1 Axes>"
      ]
     },
     "metadata": {
      "needs_background": "light"
     },
     "output_type": "display_data"
    }
   ],
   "source": [
    "%matplotlib inline\n",
    "\n",
    "from matplotlib import pyplot as plt\n",
    "x = [20]\n",
    "i = 1\n",
    "while i < 10:\n",
    "    x.append(1.5 * x[i-1] - 20)\n",
    "    i = i + 1\n",
    "\n",
    "plt.plot(x)\n",
    "plt.show()"
   ]
  },
  {
   "cell_type": "markdown",
   "id": "fa488366",
   "metadata": {
    "editable": true
   },
   "source": [
    "<!-- --- end solution of exercise --- -->\n",
    "\n",
    "**b)**\n",
    "Question without code answer:\n",
    "Can you think of an example case that has this difference equation as model?\n",
    "\n",
    "<!-- --- begin answer of exercise --- -->\n",
    "**Answer.**\n",
    "Not really.\n",
    "<!-- --- end answer of exercise --- -->\n",
    "\n",
    "**c)**\n",
    "Another question without code answer.\n",
    "\n",
    "<!-- --- begin answer of exercise --- -->\n",
    "**Answer.**\n",
    "Nothing to answer...\n",
    "<!-- --- end answer of exercise --- -->\n",
    "\n",
    "<!-- --- end exercise --- -->"
   ]
  }
 ],
 "metadata": {},
 "nbformat": 4,
 "nbformat_minor": 5
}
