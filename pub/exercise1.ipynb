{
 "cells": [
  {
   "cell_type": "markdown",
   "id": "2299d0a2",
   "metadata": {
    "editable": true
   },
   "source": [
    "<!-- File automatically generated using DocOnce (https://github.com/doconce/doconce/):\n",
    "doconce format ipynb exercise1.do.txt --execute=abort --without_solutions --without_answers --execute -->\n",
    "\n",
    "## Exercise 1: my first exercise\n",
    "\n",
    "Here goes a general introduction to the exercise."
   ]
  },
  {
   "cell_type": "markdown",
   "id": "5bcdacb8",
   "metadata": {
    "editable": true
   },
   "source": [
    "**a)**\n",
    "Predict what this code will do"
   ]
  },
  {
   "cell_type": "markdown",
   "id": "dd47b902",
   "metadata": {
    "editable": true
   },
   "source": [
    "```Python\n",
    "        a = 2\n",
    "        b = 3\n",
    "        for i in range(a, b):\n",
    "            print(i)\n",
    "```"
   ]
  },
  {
   "cell_type": "markdown",
   "id": "3bd2a2ff",
   "metadata": {
    "editable": true
   },
   "source": [
    "**b)**\n",
    "Modify the program so that it prints 2, 3 and 4.\n",
    "\n"
   ]
  },
  {
   "cell_type": "markdown",
   "id": "28aa0e8f",
   "metadata": {
    "editable": true
   },
   "source": [
    "**c)**\n",
    "Here is an open question without code to end this first exercise.\n"
   ]
  },
  {
   "cell_type": "markdown",
   "id": "2964a5d2",
   "metadata": {
    "editable": true
   },
   "source": [
    "## Exercise 2: my second exercise\n",
    "\n",
    "Here goes a general introduction to the exercise."
   ]
  },
  {
   "cell_type": "markdown",
   "id": "9240d1e5",
   "metadata": {
    "editable": true
   },
   "source": [
    "**a)**\n",
    "Implement this difference equation in Python\n",
    "and generate a plot for values of $x$ from 1 to 10."
   ]
  },
  {
   "cell_type": "markdown",
   "id": "fd2cf8de",
   "metadata": {
    "editable": true
   },
   "source": [
    "<!-- Equation labels as ordinary links -->\n",
    "<div id=\"_auto1\"></div>\n",
    "\n",
    "$$\n",
    "\\begin{equation}\n",
    "x_{n+1} = 1.5 x_n -20\n",
    "x_0 = 20\n",
    "\\label{_auto1} \\tag{1}\n",
    "\\end{equation}\n",
    "$$"
   ]
  },
  {
   "cell_type": "markdown",
   "id": "05f6341c",
   "metadata": {
    "editable": true
   },
   "source": [
    "**b)**\n",
    "Question without code answer:\n",
    "Can you think of an example case that has this difference equation as model?\n"
   ]
  },
  {
   "cell_type": "markdown",
   "id": "d641e673",
   "metadata": {
    "editable": true
   },
   "source": [
    "**c)**\n",
    "Another question without code answer.\n"
   ]
  }
 ],
 "metadata": {},
 "nbformat": 4,
 "nbformat_minor": 5
}