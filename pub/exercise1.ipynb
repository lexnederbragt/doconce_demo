{
 "cells": [
  {
   "cell_type": "markdown",
   "id": "0be5b043",
   "metadata": {
    "editable": true
   },
   "source": [
    "<!-- HTML file automatically generated from DocOnce source (https://github.com/doconce/doconce/)\n",
    "doconce format html exercise1.do.txt --execute --without_solutions --without_answers -->"
   ]
  },
  {
   "cell_type": "markdown",
   "id": "786e3b9d",
   "metadata": {
    "editable": true
   },
   "source": [
    "## Exercise 1: my first exercise\n",
    "\n",
    "Here goes a general introduction to the exercise."
   ]
  },
  {
   "cell_type": "markdown",
   "id": "9c5adf97",
   "metadata": {
    "editable": true
   },
   "source": [
    "**a)**\n",
    "Predict what this code will do"
   ]
  },
  {
   "cell_type": "markdown",
   "id": "bb192700",
   "metadata": {
    "editable": true
   },
   "source": [
    "```Python\n",
    "        a = 2\n",
    "        b = 3\n",
    "        for i in range(a, b):\n",
    "            print(i)\n",
    "```"
   ]
  },
  {
   "cell_type": "markdown",
   "id": "a4841017",
   "metadata": {
    "editable": true
   },
   "source": [
    "**b)**\n",
    "Modify the program so that it prints 2, 3 and 4.\n",
    "\n"
   ]
  },
  {
   "cell_type": "markdown",
   "id": "1fd489f6",
   "metadata": {
    "editable": true
   },
   "source": [
    "**c)**\n",
    "Here is an open question without code to end this first exercise.\n"
   ]
  },
  {
   "cell_type": "markdown",
   "id": "cef4c574",
   "metadata": {
    "editable": true
   },
   "source": [
    "## Exercise 2: my second exercise\n",
    "\n",
    "Here goes a general introduction to the exercise."
   ]
  },
  {
   "cell_type": "markdown",
   "id": "d1f45ec4",
   "metadata": {
    "editable": true
   },
   "source": [
    "**a)**\n",
    "Implement this difference equation in Python\n",
    "and generate a plot for values of $x$ from 1 to 10."
   ]
  },
  {
   "cell_type": "markdown",
   "id": "7fc38391",
   "metadata": {
    "editable": true
   },
   "source": [
    "<!-- Equation labels as ordinary links -->\n",
    "<div id=\"_auto1\"></div>\n",
    "\n",
    "$$\n",
    "\\begin{equation}\n",
    "x_{n+1} = 1.5 x_n -20\n",
    "x_0 = 20\n",
    "\\label{_auto1} \\tag{1}\n",
    "\\end{equation}\n",
    "$$"
   ]
  },
  {
   "cell_type": "markdown",
   "id": "a2ca9aa4",
   "metadata": {
    "editable": true
   },
   "source": [
    "**b)**\n",
    "Question without code answer:\n",
    "Can you think of an example case that has this difference equation as model?\n"
   ]
  },
  {
   "cell_type": "markdown",
   "id": "a8886b08",
   "metadata": {
    "editable": true
   },
   "source": [
    "**c)**\n",
    "Another question without code answer.\n"
   ]
  }
 ],
 "metadata": {},
 "nbformat": 4,
 "nbformat_minor": 5
}