{
 "cells": [
  {
   "cell_type": "markdown",
   "id": "prescription-baltimore",
   "metadata": {
    "editable": true
   },
   "source": [
    "<!-- --- begin exercise --- -->\n",
    "\n",
    "## Exercise 1: my first exercise\n",
    "\n",
    "Here goes a general introduction to the exercise.\n",
    "\n",
    "**a)**\n",
    "Predict what this code will do"
   ]
  },
  {
   "cell_type": "markdown",
   "id": "available-export",
   "metadata": {
    "editable": true
   },
   "source": [
    "```Python\n",
    "        a = 2\n",
    "        b = 3\n",
    "        for i in range(a, b):\n",
    "            print(i)\n",
    "```"
   ]
  },
  {
   "cell_type": "markdown",
   "id": "likely-battlefield",
   "metadata": {
    "editable": true
   },
   "source": [
    "\n",
    "**b)**\n",
    "Modify the program so that it prints 2, 3 and 4.\n",
    "\n"
   ]
  },
  {
   "cell_type": "markdown",
   "id": "parliamentary-place",
   "metadata": {
    "editable": true
   },
   "source": [
    "\n",
    "<!-- --- end exercise --- -->\n",
    "\n",
    "<!-- --- begin exercise --- -->\n",
    "\n",
    "## Exercise 2: my second exercise\n",
    "\n",
    "Here goes a general introduction to the exercise.\n",
    "\n",
    "**a)**\n",
    "Implement this difference equation in Python\n",
    "and generate a plot for values of $x$ from 1 to 10."
   ]
  },
  {
   "cell_type": "markdown",
   "id": "potential-rocket",
   "metadata": {
    "editable": true
   },
   "source": [
    "<!-- Equation labels as ordinary links -->\n",
    "<div id=\"_auto1\"></div>\n",
    "\n",
    "$$\n",
    "\\begin{equation}\n",
    "x_{n+1} = 1.5 x_n -20\n",
    "x_0 = 20\n",
    "\\label{_auto1} \\tag{1}\n",
    "\\end{equation}\n",
    "$$"
   ]
  },
  {
   "cell_type": "markdown",
   "id": "north-final",
   "metadata": {
    "editable": true
   },
   "source": [
    "\n",
    "**b)**\n",
    "Question without code answer:\n",
    "Can you think of an example case that has this difference equation as model?\n",
    "\n",
    "\n",
    "**c)**\n",
    "Another question without code answer.\n",
    "\n",
    "\n",
    "<!-- --- end exercise --- -->"
   ]
  }
 ],
 "metadata": {},
 "nbformat": 4,
 "nbformat_minor": 5
}