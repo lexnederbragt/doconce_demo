{
 "cells": [
  {
   "cell_type": "markdown",
   "id": "689359a3",
   "metadata": {
    "editable": true
   },
   "source": [
    "<!-- File automatically generated using DocOnce (https://github.com/doconce/doconce/):\n",
    "doconce format ipynb slide1.do.txt --execute=abort --execute -->\n",
    "\n",
    "# Minimal slide demo\n",
    "**Lex Nederbragt**\n",
    "\n",
    "Date: **Jan 12, 2022**"
   ]
  },
  {
   "cell_type": "markdown",
   "id": "b2d8676a",
   "metadata": {
    "editable": true
   },
   "source": [
    "## Plain text\n",
    "\n",
    "Here is some plain text.\n",
    "\n",
    "Now we add some python code with output:"
   ]
  },
  {
   "cell_type": "code",
   "execution_count": 1,
   "id": "c4903475",
   "metadata": {
    "collapsed": false,
    "editable": true
   },
   "outputs": [
    {
     "name": "stdout",
     "output_type": "stream",
     "text": [
      "55\n"
     ]
    }
   ],
   "source": [
    "total = 0\n",
    "for number in range(10):\n",
    "   total = total + (number + 1)\n",
    "print(total)"
   ]
  },
  {
   "cell_type": "markdown",
   "id": "c79d5f26",
   "metadata": {
    "editable": true
   },
   "source": [
    "Let us check the type:"
   ]
  },
  {
   "cell_type": "code",
   "execution_count": 2,
   "id": "382d5ca0",
   "metadata": {
    "collapsed": false,
    "editable": true
   },
   "outputs": [
    {
     "name": "stdout",
     "output_type": "stream",
     "text": [
      "<class 'int'>\n"
     ]
    }
   ],
   "source": [
    "print(type(total))"
   ]
  },
  {
   "cell_type": "markdown",
   "id": "7e2079f1",
   "metadata": {
    "editable": true
   },
   "source": [
    "## Explanation\n",
    "\n",
    "Let's explain some of this code\n",
    "(setting the code to be unexecutable):\n",
    "\n",
    "The `for` loop:"
   ]
  },
  {
   "cell_type": "markdown",
   "id": "b70a8083",
   "metadata": {
    "editable": true
   },
   "source": [
    "```Python\n",
    "        for number in range(10):\n",
    "           total = total + (number + 1)\n",
    "```"
   ]
  },
  {
   "cell_type": "markdown",
   "id": "ce6faee5",
   "metadata": {
    "editable": true
   },
   "source": [
    "Goes through numbers 0 to 9 and adds 1 more than each number to the `total` variable."
   ]
  },
  {
   "cell_type": "markdown",
   "id": "0da41ba6",
   "metadata": {
    "editable": true
   },
   "source": [
    "## Table\n",
    "\n",
    "The data on exponential growth can be found in the table below.\n",
    "\n",
    "<table class=\"dotable\" border=\"1\">\n",
    "<thead>\n",
    "<tr><th align=\"center\">time</th> <th align=\"center\">  count  </th> </tr>\n",
    "</thead>\n",
    "<tbody>\n",
    "<tr><td align=\"center\">   60      </td> <td align=\"center\">   10000        </td> </tr>\n",
    "<tr><td align=\"center\">   90      </td> <td align=\"center\">   25587        </td> </tr>\n",
    "<tr><td align=\"center\">   120     </td> <td align=\"center\">   76327        </td> </tr>\n",
    "<tr><td align=\"center\">   150     </td> <td align=\"center\">   212715       </td> </tr>\n",
    "<tr><td align=\"center\">   180     </td> <td align=\"center\">   619511       </td> </tr>\n",
    "<tr><td align=\"center\">   210     </td> <td align=\"center\">   1940838      </td> </tr>\n",
    "<tr><td align=\"center\">   240     </td> <td align=\"center\">   4240760      </td> </tr>\n",
    "<tr><td align=\"center\">   270     </td> <td align=\"center\">   13993730     </td> </tr>\n",
    "<tr><td align=\"center\">   300     </td> <td align=\"center\">   38971086     </td> </tr>\n",
    "<tr><td align=\"center\">   330     </td> <td align=\"center\">   105614040    </td> </tr>\n",
    "</tbody>\n",
    "</table>"
   ]
  },
  {
   "cell_type": "markdown",
   "id": "ad67d986",
   "metadata": {
    "editable": true
   },
   "source": [
    "## Figure\n",
    "\n",
    "An illustration that explains the Python dictionary concept.\n",
    "\n",
    "<!-- dom:FIGURE: [img/PythonDict.png, width=400, frac=0.8, alt=\"Schematic illustration of how keys and values are related in Python dictionaries\"] -->\n",
    "<!-- begin figure -->\n",
    "\n",
    "<img src=\"img/PythonDict.png\" width=\"400\" alt=\"Schematic illustration of how keys and values are related in Python dictionaries\"><p style=\"font-size: 0.9em\"><i>Figure 1</i></p>\n",
    "<!-- end figure -->\n",
    "\n",
    "The figure was taken\n",
    "[from Wikimedia Commons](https://commons.wikimedia.org/wiki/File:GooglePythonClass_Day1_Part3_Pic.jpg)."
   ]
  },
  {
   "cell_type": "markdown",
   "id": "3db091f0",
   "metadata": {
    "editable": true
   },
   "source": [
    "## Math\n",
    "\n",
    "Now we add some mathematical formula:"
   ]
  },
  {
   "cell_type": "markdown",
   "id": "bdf45c10",
   "metadata": {
    "editable": true
   },
   "source": [
    "$$\n",
    "K_n = rwTK_{n-1}\\left (1 - \\frac{K_{n-1}}{H}\\right ) - K_{n-1}.\n",
    "$$"
   ]
  },
  {
   "cell_type": "markdown",
   "id": "28fa3361",
   "metadata": {
    "editable": true
   },
   "source": [
    "## Slidecells\n",
    "\n",
    "Here we use a two by two grid for content\n",
    "\n",
    "Top left cell\n",
    "\n",
    "Top right cell\n",
    "\n",
    "Bottom left cell\n",
    "\n",
    "Bottom right cell"
   ]
  }
 ],
 "metadata": {},
 "nbformat": 4,
 "nbformat_minor": 5
}
