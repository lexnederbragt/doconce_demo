{
 "cells": [
  {
   "cell_type": "markdown",
   "id": "f7e919c3",
   "metadata": {
    "editable": true
   },
   "source": [
    "<!-- File automatically generated using DocOnce (https://github.com/doconce/doconce/):\n",
    "doconce format ipynb include1.do.txt --execute=abort --execute -->\n",
    "\n",
    "<!-- Building up the output by adding successive doconce files -->"
   ]
  },
  {
   "cell_type": "markdown",
   "id": "7b0eeb83",
   "metadata": {
    "editable": true
   },
   "source": [
    "## Plain text\n",
    "\n",
    "Here is some plain text.\n",
    "\n",
    "Now we add some python code with output:"
   ]
  },
  {
   "cell_type": "code",
   "execution_count": 1,
   "id": "f0893839",
   "metadata": {
    "collapsed": false,
    "editable": true
   },
   "outputs": [
    {
     "name": "stdout",
     "output_type": "stream",
     "text": [
      "55\n"
     ]
    }
   ],
   "source": [
    "total = 0\n",
    "for number in range(10):\n",
    "   total = total + (number + 1)\n",
    "print(total)"
   ]
  },
  {
   "cell_type": "markdown",
   "id": "29be7064",
   "metadata": {
    "editable": true
   },
   "source": [
    "And some data"
   ]
  },
  {
   "cell_type": "markdown",
   "id": "7eb4d1c6",
   "metadata": {
    "editable": true
   },
   "source": [
    "        time,count\n",
    "        60,10000\n",
    "        90,25587\n",
    "        120,76327\n",
    "        150,212715\n",
    "        180,619511\n",
    "        210,1940838\n",
    "        240,4240760\n",
    "        270,13993730\n",
    "        300,38971086\n",
    "        330,105614040\n"
   ]
  },
  {
   "cell_type": "markdown",
   "id": "64785312",
   "metadata": {
    "editable": true
   },
   "source": [
    "## Explanation\n",
    "\n",
    "Let's explain some of this code\n",
    "(setting the code to be unexecutable):\n",
    "\n",
    "The `for` loop:"
   ]
  },
  {
   "cell_type": "markdown",
   "id": "6dec02e4",
   "metadata": {
    "editable": true
   },
   "source": [
    "```Python\n",
    "        for number in range(10):\n",
    "           total = total + (number + 1)\n",
    "```"
   ]
  },
  {
   "cell_type": "markdown",
   "id": "25a25654",
   "metadata": {
    "editable": true
   },
   "source": [
    "Goes through numbers 0 to 9 and adds 1 more than each number to the `total` variable."
   ]
  },
  {
   "cell_type": "markdown",
   "id": "5fb3158a",
   "metadata": {
    "editable": true
   },
   "source": [
    "## Table\n",
    "\n",
    "The data on exponential growth can be found in the table below.\n",
    "\n",
    "<table class=\"dotable\" border=\"1\">\n",
    "<thead>\n",
    "<tr><th align=\"center\">time</th> <th align=\"center\">  count  </th> </tr>\n",
    "</thead>\n",
    "<tbody>\n",
    "<tr><td align=\"center\">   60      </td> <td align=\"center\">   10000        </td> </tr>\n",
    "<tr><td align=\"center\">   90      </td> <td align=\"center\">   25587        </td> </tr>\n",
    "<tr><td align=\"center\">   120     </td> <td align=\"center\">   76327        </td> </tr>\n",
    "<tr><td align=\"center\">   150     </td> <td align=\"center\">   212715       </td> </tr>\n",
    "<tr><td align=\"center\">   180     </td> <td align=\"center\">   619511       </td> </tr>\n",
    "<tr><td align=\"center\">   210     </td> <td align=\"center\">   1940838      </td> </tr>\n",
    "<tr><td align=\"center\">   240     </td> <td align=\"center\">   4240760      </td> </tr>\n",
    "<tr><td align=\"center\">   270     </td> <td align=\"center\">   13993730     </td> </tr>\n",
    "<tr><td align=\"center\">   300     </td> <td align=\"center\">   38971086     </td> </tr>\n",
    "<tr><td align=\"center\">   330     </td> <td align=\"center\">   105614040    </td> </tr>\n",
    "</tbody>\n",
    "</table>"
   ]
  },
  {
   "cell_type": "markdown",
   "id": "0735024b",
   "metadata": {
    "editable": true
   },
   "source": [
    "## Figure\n",
    "\n",
    "See [figure 1](#PythonDict) for an illustration that explains the python dictionary concept.\n",
    "\n",
    "<!-- dom:FIGURE: [img/PythonDict.png, width=400, frac=0.8, alt=\"Schematic illustration of how keys and values are related in Python dictionaries\"] Data structure concept of a dictionary in python. <div id=\"PythonDict\"></div> -->\n",
    "<!-- begin figure -->\n",
    "<div id=\"PythonDict\"></div>\n",
    "\n",
    "<img src=\"img/PythonDict.png\" width=\"400\" alt=\"Schematic illustration of how keys and values are related in Python dictionaries\"><p style=\"font-size: 0.9em\"><i>Figure 1: Data structure concept of a dictionary in python.</i></p>\n",
    "<!-- end figure -->\n",
    "\n",
    "The figure was taken\n",
    "[from Wikimedia Commons](https://commons.wikimedia.org/wiki/File:GooglePythonClass_Day1_Part3_Pic.jpg)."
   ]
  },
  {
   "cell_type": "markdown",
   "id": "9f8b9444",
   "metadata": {
    "editable": true
   },
   "source": [
    "## Math\n",
    "\n",
    "Now we add some mathematical formula:"
   ]
  },
  {
   "cell_type": "markdown",
   "id": "2532ae6d",
   "metadata": {
    "editable": true
   },
   "source": [
    "$$\n",
    "K_n = rwTK_{n-1}\\left (1 - \\frac{K_{n-1}}{H}\\right ) - K_{n-1}.\n",
    "$$"
   ]
  }
 ],
 "metadata": {},
 "nbformat": 4,
 "nbformat_minor": 5
}
