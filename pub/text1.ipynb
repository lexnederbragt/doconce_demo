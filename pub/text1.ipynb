{
 "cells": [
  {
   "cell_type": "markdown",
   "id": "6ce63b58",
   "metadata": {
    "editable": true
   },
   "source": [
    "<!-- HTML file automatically generated from DocOnce source (https://github.com/doconce/doconce/)\n",
    "doconce format html text1.do.txt --execute -->"
   ]
  },
  {
   "cell_type": "markdown",
   "id": "9801a444",
   "metadata": {
    "editable": true
   },
   "source": [
    "## Plain text\n",
    "\n",
    "Here is some plain text.\n",
    "\n",
    "Now we add some python code with output:"
   ]
  },
  {
   "cell_type": "code",
   "execution_count": 1,
   "id": "3565188e",
   "metadata": {
    "collapsed": false,
    "editable": true
   },
   "outputs": [
    {
     "name": "stdout",
     "output_type": "stream",
     "text": [
      "55\n"
     ]
    }
   ],
   "source": [
    "total = 0\n",
    "for number in range(10):\n",
    "   total = total + (number + 1)\n",
    "print(total)"
   ]
  },
  {
   "cell_type": "markdown",
   "id": "5157631b",
   "metadata": {
    "editable": true
   },
   "source": [
    "## Explanation\n",
    "\n",
    "Let's explain some of this code\n",
    "(setting the code to be unexecutable):\n",
    "\n",
    "The `for` loop:"
   ]
  },
  {
   "cell_type": "markdown",
   "id": "eb0e0374",
   "metadata": {
    "editable": true
   },
   "source": [
    "```Python\n",
    "        for number in range(10):\n",
    "           total = total + (number + 1)\n",
    "```"
   ]
  },
  {
   "cell_type": "markdown",
   "id": "e234e3d5",
   "metadata": {
    "editable": true
   },
   "source": [
    "Goes through numbers 0 to 9 and adds 1 more than each number to the `total` variable."
   ]
  },
  {
   "cell_type": "markdown",
   "id": "0a01ab0c",
   "metadata": {
    "editable": true
   },
   "source": [
    "## Table\n",
    "\n",
    "The data on exponential growth can be found in the table below.\n",
    "\n",
    "<table class=\"dotable\" border=\"1\">\n",
    "<thead>\n",
    "<tr><th align=\"center\">time</th> <th align=\"center\">  count  </th> </tr>\n",
    "</thead>\n",
    "<tbody>\n",
    "<tr><td align=\"center\">   60      </td> <td align=\"center\">   10000        </td> </tr>\n",
    "<tr><td align=\"center\">   90      </td> <td align=\"center\">   25587        </td> </tr>\n",
    "<tr><td align=\"center\">   120     </td> <td align=\"center\">   76327        </td> </tr>\n",
    "<tr><td align=\"center\">   150     </td> <td align=\"center\">   212715       </td> </tr>\n",
    "<tr><td align=\"center\">   180     </td> <td align=\"center\">   619511       </td> </tr>\n",
    "<tr><td align=\"center\">   210     </td> <td align=\"center\">   1940838      </td> </tr>\n",
    "<tr><td align=\"center\">   240     </td> <td align=\"center\">   4240760      </td> </tr>\n",
    "<tr><td align=\"center\">   270     </td> <td align=\"center\">   13993730     </td> </tr>\n",
    "<tr><td align=\"center\">   300     </td> <td align=\"center\">   38971086     </td> </tr>\n",
    "<tr><td align=\"center\">   330     </td> <td align=\"center\">   105614040    </td> </tr>\n",
    "</tbody>\n",
    "</table>"
   ]
  },
  {
   "cell_type": "markdown",
   "id": "4b54cc2a",
   "metadata": {
    "editable": true
   },
   "source": [
    "## Figure\n",
    "\n",
    "See [figure 1](#PythonDict) for an illustration that explains the python dictionary concept.\n",
    "\n",
    "<!-- dom:FIGURE: [img/PythonDict.png, width=400, frac=0.8, alt=\"Schematic illustration of how keys and values are related in Python dictionaries\"] Data structure concept of a dictionary in python. <div id=\"PythonDict\"></div> -->\n",
    "<!-- begin figure -->\n",
    "<div id=\"PythonDict\"></div>\n",
    "\n",
    "<img src=\"img/PythonDict.png\" width=\"400\" alt=\"Schematic illustration of how keys and values are related in Python dictionaries\"><p style=\"font-size: 0.9em\"><i>Figure 1: Data structure concept of a dictionary in python.</i></p>\n",
    "<!-- end figure -->\n",
    "\n",
    "The figure was taken\n",
    "[from Wikimedia Commons](https://commons.wikimedia.org/wiki/File:GooglePythonClass_Day1_Part3_Pic.jpg)."
   ]
  },
  {
   "cell_type": "markdown",
   "id": "b54e3704",
   "metadata": {
    "editable": true
   },
   "source": [
    "## Math\n",
    "\n",
    "Now we add some mathematical formula:"
   ]
  },
  {
   "cell_type": "markdown",
   "id": "4153fc01",
   "metadata": {
    "editable": true
   },
   "source": [
    "$$\n",
    "K_n = rwTK_{n-1}\\left (1 - \\frac{K_{n-1}}{H}\\right ) - K_{n-1}.\n",
    "$$"
   ]
  }
 ],
 "metadata": {},
 "nbformat": 4,
 "nbformat_minor": 5
}
