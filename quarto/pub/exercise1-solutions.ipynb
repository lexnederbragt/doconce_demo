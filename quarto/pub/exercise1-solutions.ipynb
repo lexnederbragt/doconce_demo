{
 "cells": [
  {
   "cell_type": "markdown",
   "id": "b9c82268-c42e-4a2a-90f9-c5478f8328f3",
   "metadata": {},
   "source": [
    "# Exercise 1\n",
    "\n",
    "Lex Nederbragt  \n",
    "1/30/23\n",
    "\n",
    "## Exercise: my first exercise\n",
    "\n",
    "Here goes a general introduction to the exercise.\n",
    "\n",
    "### a)\n",
    "\n",
    "Predict what this code will do"
   ]
  },
  {
   "cell_type": "code",
   "execution_count": 1,
   "id": "bdd48cf7-caf4-42d3-a6fb-044db4fb7e81",
   "metadata": {},
   "outputs": [],
   "source": [
    "a = 2\n",
    "b = 3\n",
    "for i in range(a, b):\n",
    "    print(i)"
   ]
  },
  {
   "cell_type": "markdown",
   "id": "f8f36d2e-dd48-44aa-9ee7-33707bdc7634",
   "metadata": {},
   "source": [
    "#### Solution\n",
    "\n",
    "Prints `2`\n",
    "\n",
    "### b)\n",
    "\n",
    "Modify the program so that it prints 2, 3 and 4.\n",
    "\n",
    "#### Solution\n",
    "\n",
    "There are many ways to do this. We will show two of them."
   ]
  },
  {
   "cell_type": "code",
   "execution_count": 2,
   "id": "6a1d7d88-5674-4b4e-a9cd-26de66bffc80",
   "metadata": {},
   "outputs": [
    {
     "name": "stdout",
     "output_type": "stream",
     "text": [
      "2\n",
      "3\n",
      "4"
     ]
    }
   ],
   "source": [
    "a = 2\n",
    "b = 5\n",
    "for i in range(a, b):\n",
    "    print(i)"
   ]
  },
  {
   "cell_type": "markdown",
   "id": "efbaee00-aa85-438a-97f9-83c479d7d784",
   "metadata": {},
   "source": [
    "An alternative:"
   ]
  },
  {
   "cell_type": "code",
   "execution_count": 3,
   "id": "9607fe49-ef9b-4d4b-887e-4b56f0aa6d06",
   "metadata": {},
   "outputs": [
    {
     "name": "stdout",
     "output_type": "stream",
     "text": [
      "2\n",
      "3\n",
      "4"
     ]
    }
   ],
   "source": [
    "a = 1\n",
    "b = 4\n",
    "for i in range(a, b):\n",
    "    print(i + 1)"
   ]
  },
  {
   "cell_type": "markdown",
   "id": "4d3a791b-c900-4c94-a586-f707298e1c81",
   "metadata": {},
   "source": [
    "### c)\n",
    "\n",
    "Here is an open question without code to end this first exercise.\n",
    "\n",
    "#### Solution\n",
    "\n",
    "The answer will be written text.\n",
    "\n",
    "## Exercise: my second exercise\n",
    "\n",
    "Here goes a general introduction to the exercise.\n",
    "\n",
    "### a)\n",
    "\n",
    "Implement this difference equation in Python and generate a plot for\n",
    "values of $x$ from 1 to 10.\n",
    "\n",
    "$$\n",
    "x_{n+1} = 1.5 x_n -20\n",
    "x_0 = 20\n",
    "$$\n",
    "\n",
    "#### Solution"
   ]
  },
  {
   "cell_type": "code",
   "execution_count": 4,
   "id": "c1a4bbfe-b195-451d-8aa1-f0cf8bcc8e9f",
   "metadata": {},
   "outputs": [
    {
     "data": {
      "image/png": "[encoded data removed]"
     },
     "metadata": {},
     "output_type": "display_data"
    }
   ],
   "source": [
    "from matplotlib import pyplot as plt\n",
    "x = [20]\n",
    "i = 1\n",
    "while i < 10:\n",
    "    x.append(1.5 * x[i-1] - 20)\n",
    "    i = i + 1\n",
    "\n",
    "plt.plot(x)\n",
    "plt.show()"
   ]
  },
  {
   "cell_type": "markdown",
   "id": "2402538f-7dea-4d4c-84e2-c7c66a5a740e",
   "metadata": {},
   "source": [
    "### b)\n",
    "\n",
    "Question without code answer: Can you think of an example case that has\n",
    "this difference equation as model?\n",
    "\n",
    "#### Solution\n",
    "\n",
    "Not really.\n",
    "\n",
    "### c)\n",
    "\n",
    "Another question without code answer.\n",
    "\n",
    "#### Solution\n",
    "\n",
    "Nothing to answer…"
   ]
  }
 ],
 "metadata": {
  "kernelspec": {
   "display_name": "Python 3 (ipykernel)",
   "language": "python",
   "name": "python3"
  },
  "language_info": {
   "codemirror_mode": {
    "name": "ipython",
    "version": 3
   },
   "file_extension": ".py",
   "mimetype": "text/x-python",
   "name": "python",
   "nbconvert_exporter": "python",
   "pygments_lexer": "ipython3",
   "version": "3.10.4"
  }
 },
 "nbformat": 4,
 "nbformat_minor": 5
}
