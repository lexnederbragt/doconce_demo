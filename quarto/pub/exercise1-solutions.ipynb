{
 "cells": [
  {
   "cell_type": "markdown",
   "id": "a2ee80c8-9c37-4043-8d93-f61776de31e4",
   "metadata": {},
   "source": [
    "# Exercise 1\n",
    "\n",
    "Lex Nederbragt  \n",
    "February 3, 2023"
   ]
  },
  {
   "cell_type": "markdown",
   "id": "9fe6168c-fe40-4955-a2e2-c39690ab8d64",
   "metadata": {},
   "source": [
    "## Exercise: my first exercise\n",
    "\n",
    "Here goes a general introduction to the exercise.\n",
    "\n",
    "### a)\n",
    "\n",
    "Predict what this code will do\n",
    "\n",
    "``` python\n",
    "a = 2\n",
    "b = 3\n",
    "for i in range(a, b):\n",
    "    print(i)\n",
    "```"
   ]
  },
  {
   "cell_type": "markdown",
   "id": "efdf2350-5f17-4059-bda0-9d0aedcca420",
   "metadata": {},
   "source": [
    "#### Solution\n",
    "\n",
    "Prints `2`"
   ]
  },
  {
   "cell_type": "markdown",
   "id": "7be30ecc-4d43-4e03-b904-daaed2c85f38",
   "metadata": {},
   "source": [
    "### b)\n",
    "\n",
    "Modify the program so that it prints 2, 3 and 4."
   ]
  },
  {
   "cell_type": "markdown",
   "id": "d6a27501-3207-4d54-ab5d-6855d465125c",
   "metadata": {},
   "source": [
    "#### Solution\n",
    "\n",
    "There are many ways to do this. We will show two of them."
   ]
  },
  {
   "cell_type": "code",
   "execution_count": 2,
   "id": "5dd0097d-3143-4931-842b-597019f52e08",
   "metadata": {},
   "outputs": [
    {
     "name": "stdout",
     "output_type": "stream",
     "text": [
      "2\n",
      "3\n",
      "4"
     ]
    }
   ],
   "source": [
    "a = 2\n",
    "b = 5\n",
    "for i in range(a, b):\n",
    "    print(i)"
   ]
  },
  {
   "cell_type": "markdown",
   "id": "cbd511c4-b0ae-4fb7-bb71-c577fa681b8b",
   "metadata": {},
   "source": [
    "An alternative:"
   ]
  },
  {
   "cell_type": "code",
   "execution_count": 3,
   "id": "b4f0b7a2-f3c2-43c5-9511-950781a97a56",
   "metadata": {},
   "outputs": [
    {
     "name": "stdout",
     "output_type": "stream",
     "text": [
      "2\n",
      "3\n",
      "4"
     ]
    }
   ],
   "source": [
    "a = 1\n",
    "b = 4\n",
    "for i in range(a, b):\n",
    "    print(i + 1)"
   ]
  },
  {
   "cell_type": "markdown",
   "id": "5b03ba4e-2dc7-4727-9511-63ef18ddca50",
   "metadata": {},
   "source": [
    "### c)\n",
    "\n",
    "Here is an open question without code to end this first exercise."
   ]
  },
  {
   "cell_type": "markdown",
   "id": "0d608b69-4ffc-4bb1-9388-1628c61b0730",
   "metadata": {},
   "source": [
    "#### Solution\n",
    "\n",
    "The answer will be written text."
   ]
  },
  {
   "cell_type": "markdown",
   "id": "679a541b-2665-4f53-a98e-f3ca86404639",
   "metadata": {},
   "source": [
    "## Exercise: My second exercise\n",
    "\n",
    "Here goes a general introduction to the exercise.\n",
    "\n",
    "### a)\n",
    "\n",
    "Implement this difference equation in Python and generate a plot for\n",
    "values of $x$ from 1 to 10.\n",
    "\n",
    "$$\n",
    "x_{n+1} = 1.5 x_n -20\n",
    "x_0 = 20\n",
    "$$"
   ]
  },
  {
   "cell_type": "markdown",
   "id": "349014c3-eb1c-4a1b-8d06-eec16c87662a",
   "metadata": {},
   "source": [
    "#### Solution"
   ]
  },
  {
   "cell_type": "code",
   "execution_count": 4,
   "id": "86a6d5cc-dc83-46b6-90d2-13a8e879c977",
   "metadata": {},
   "outputs": [
    {
     "data": {
      "image/png": "[encoded data removed]"
     },
     "metadata": {},
     "output_type": "display_data"
    }
   ],
   "source": [
    "from matplotlib import pyplot as plt\n",
    "x = [20]\n",
    "i = 1\n",
    "while i < 10:\n",
    "    x.append(1.5 * x[i-1] - 20)\n",
    "    i = i + 1\n",
    "\n",
    "plt.plot(x)\n",
    "plt.show()"
   ]
  },
  {
   "cell_type": "markdown",
   "id": "d51b5cf9-2b8f-43a5-becc-2a8719b45fe4",
   "metadata": {},
   "source": [
    "### b)\n",
    "\n",
    "Question without code answer: Can you think of an example case that has\n",
    "this difference equation as model?"
   ]
  },
  {
   "cell_type": "markdown",
   "id": "49ead3ed-0f1e-46fa-92f0-e3957af67330",
   "metadata": {},
   "source": [
    "#### Solution\n",
    "\n",
    "Not really."
   ]
  },
  {
   "cell_type": "markdown",
   "id": "19b52e8b-a913-487c-88dc-90f47543a4b8",
   "metadata": {},
   "source": [
    "### c)\n",
    "\n",
    "Another question without code answer."
   ]
  },
  {
   "cell_type": "markdown",
   "id": "98bfb68a-d868-4697-a6d6-11d55258b7b6",
   "metadata": {},
   "source": [
    "#### Solution\n",
    "\n",
    "Nothing to answer…"
   ]
  }
 ],
 "metadata": {
  "kernelspec": {
   "display_name": "Python 3 (ipykernel)",
   "language": "python",
   "name": "python3"
  },
  "language_info": {
   "codemirror_mode": {
    "name": "ipython",
    "version": 3
   },
   "file_extension": ".py",
   "mimetype": "text/x-python",
   "name": "python",
   "nbconvert_exporter": "python",
   "pygments_lexer": "ipython3",
   "version": "3.10.4"
  }
 },
 "nbformat": 4,
 "nbformat_minor": 5
}
