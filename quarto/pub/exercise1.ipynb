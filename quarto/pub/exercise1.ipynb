{
 "cells": [
  {
   "cell_type": "markdown",
   "id": "79df1bb7-747a-4f38-9c37-602d18856bd4",
   "metadata": {},
   "source": [
    "# Exercise 1\n",
    "\n",
    "Lex Nederbragt  \n",
    "1/30/23\n",
    "\n",
    "## Exercise: my first exercise\n",
    "\n",
    "Here goes a general introduction to the exercise.\n",
    "\n",
    "### a)\n",
    "\n",
    "Predict what this code will do"
   ]
  },
  {
   "cell_type": "code",
   "execution_count": 1,
   "id": "fe7b141f-44b3-4ba0-8de9-397ac2d0f8f5",
   "metadata": {},
   "outputs": [],
   "source": [
    "a = 2\n",
    "b = 3\n",
    "for i in range(a, b):\n",
    "    print(i)"
   ]
  },
  {
   "cell_type": "markdown",
   "id": "d16ad14e-5e86-47bb-820b-63a9f6c7c52c",
   "metadata": {},
   "source": [
    "### b)\n",
    "\n",
    "Modify the program so that it prints 2, 3 and 4.\n",
    "\n",
    "### c)\n",
    "\n",
    "Here is an open question without code to end this first exercise.\n",
    "\n",
    "## Exercise: my second exercise\n",
    "\n",
    "Here goes a general introduction to the exercise.\n",
    "\n",
    "### a)\n",
    "\n",
    "Implement this difference equation in Python and generate a plot for\n",
    "values of $x$ from 1 to 10.\n",
    "\n",
    "$$\n",
    "x_{n+1} = 1.5 x_n -20\n",
    "x_0 = 20\n",
    "$$\n",
    "\n",
    "### b)\n",
    "\n",
    "Question without code answer: Can you think of an example case that has\n",
    "this difference equation as model?\n",
    "\n",
    "### c)\n",
    "\n",
    "Another question without code answer."
   ]
  }
 ],
 "metadata": {
  "kernelspec": {
   "display_name": "Python 3 (ipykernel)",
   "language": "python",
   "name": "python3"
  },
  "language_info": {
   "codemirror_mode": {
    "name": "ipython",
    "version": 3
   },
   "file_extension": ".py",
   "mimetype": "text/x-python",
   "name": "python",
   "nbconvert_exporter": "python",
   "pygments_lexer": "ipython3",
   "version": "3.10.4"
  }
 },
 "nbformat": 4,
 "nbformat_minor": 5
}
