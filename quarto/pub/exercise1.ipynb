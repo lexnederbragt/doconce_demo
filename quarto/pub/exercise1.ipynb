{
 "cells": [
  {
   "cell_type": "markdown",
   "id": "c7fc3d07-1630-4c27-a6ba-6408ed2d2d19",
   "metadata": {},
   "source": [
    "# Exercise 1\n",
    "\n",
    "Lex Nederbragt  \n",
    "February 3, 2023"
   ]
  },
  {
   "cell_type": "markdown",
   "id": "3cb1139f-aa1e-4700-8e63-1c3010b0c48c",
   "metadata": {},
   "source": [
    "## Exercise: my first exercise\n",
    "\n",
    "Here goes a general introduction to the exercise.\n",
    "\n",
    "### a)\n",
    "\n",
    "Predict what this code will do\n",
    "\n",
    "``` python\n",
    "a = 2\n",
    "b = 3\n",
    "for i in range(a, b):\n",
    "    print(i)\n",
    "```"
   ]
  },
  {
   "cell_type": "markdown",
   "id": "b3a44826-a9de-4430-b96a-83239febf0fd",
   "metadata": {},
   "source": [
    "### b)\n",
    "\n",
    "Modify the program so that it prints 2, 3 and 4."
   ]
  },
  {
   "cell_type": "markdown",
   "id": "9d628e0c-1145-454a-96f7-5875f3b05fe3",
   "metadata": {},
   "source": [
    "### c)\n",
    "\n",
    "Here is an open question without code to end this first exercise."
   ]
  },
  {
   "cell_type": "markdown",
   "id": "7c919b8b-9325-4381-bdb4-90c65ec9973c",
   "metadata": {},
   "source": [
    "## Exercise: My second exercise\n",
    "\n",
    "Here goes a general introduction to the exercise.\n",
    "\n",
    "### a)\n",
    "\n",
    "Implement this difference equation in Python and generate a plot for\n",
    "values of $x$ from 1 to 10.\n",
    "\n",
    "$$\n",
    "x_{n+1} = 1.5 x_n -20\n",
    "x_0 = 20\n",
    "$$"
   ]
  },
  {
   "cell_type": "markdown",
   "id": "3b025343-99f2-496e-bd0f-a10ff30dc1ae",
   "metadata": {},
   "source": [
    "### b)\n",
    "\n",
    "Question without code answer: Can you think of an example case that has\n",
    "this difference equation as model?"
   ]
  },
  {
   "cell_type": "markdown",
   "id": "75b182c9-4c7c-45c2-a6df-568b590bae70",
   "metadata": {},
   "source": [
    "### c)\n",
    "\n",
    "Another question without code answer."
   ]
  }
 ],
 "metadata": {
  "kernelspec": {
   "display_name": "Python 3 (ipykernel)",
   "language": "python",
   "name": "python3"
  },
  "language_info": {
   "codemirror_mode": {
    "name": "ipython",
    "version": 3
   },
   "file_extension": ".py",
   "mimetype": "text/x-python",
   "name": "python",
   "nbconvert_exporter": "python",
   "pygments_lexer": "ipython3",
   "version": "3.9.16"
  }
 },
 "nbformat": 4,
 "nbformat_minor": 5
}
